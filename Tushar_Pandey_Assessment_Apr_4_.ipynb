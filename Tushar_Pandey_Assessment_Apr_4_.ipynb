{
  "nbformat": 4,
  "nbformat_minor": 0,
  "metadata": {
    "colab": {
      "provenance": []
    },
    "kernelspec": {
      "name": "python3",
      "display_name": "Python 3"
    },
    "language_info": {
      "name": "python"
    }
  },
  "cells": [
    {
      "cell_type": "code",
      "execution_count": null,
      "metadata": {
        "colab": {
          "base_uri": "https://localhost:8080/"
        },
        "id": "skV_NZF6TZ6p",
        "outputId": "cc84fcaa-3934-4e34-f09a-08bd84ccd7b8"
      },
      "outputs": [
        {
          "output_type": "execute_result",
          "data": {
            "text/plain": [
              "[2, 4, 6, 8, 10]"
            ]
          },
          "metadata": {},
          "execution_count": 1
        }
      ],
      "source": [
        "#Q1\n",
        "list1 = [1,2,3,4,5,6,7,8,9,10]\n",
        "list2 = [i for i in list1 if i%2==0]\n",
        "list2"
      ]
    },
    {
      "cell_type": "code",
      "source": [
        "#Q2\n",
        "class Person:\n",
        "  def details(self,name,age,gender):\n",
        "    self.name = name\n",
        "    self.age = age\n",
        "    self.gender = gender\n",
        "    print(f'''Name : {self.name}, Age : {self.age}, Gender : {self.gender}''')\n",
        "\n",
        "t = Person()\n",
        "t.details(\"Tushar\",22,\"Male\")"
      ],
      "metadata": {
        "colab": {
          "base_uri": "https://localhost:8080/"
        },
        "id": "m5_77iO2duuH",
        "outputId": "cf44f4ee-b264-4cc9-e4b0-7a7e1e629b01"
      },
      "execution_count": null,
      "outputs": [
        {
          "output_type": "stream",
          "name": "stdout",
          "text": [
            "Name : Tushar, Age : 22, Gender : Male\n"
          ]
        }
      ]
    },
    {
      "cell_type": "code",
      "source": [
        "import requests\n",
        "data = requests.get(f\"https://api.example.com/data\")"
      ],
      "metadata": {
        "id": "9KJ5xchVegax"
      },
      "execution_count": null,
      "outputs": []
    },
    {
      "cell_type": "code",
      "source": [
        "list1 = ['apple','banana','cherry','date']\n",
        "l2 = lambda : sorted(list1,key=len)\n",
        "print(l2)"
      ],
      "metadata": {
        "id": "dcADB2mafQFr",
        "colab": {
          "base_uri": "https://localhost:8080/"
        },
        "outputId": "0c1b4934-ec79-45e9-f466-c43b4ab0a104"
      },
      "execution_count": 8,
      "outputs": [
        {
          "output_type": "stream",
          "name": "stdout",
          "text": [
            "<function <lambda> at 0x7a3596922950>\n"
          ]
        }
      ]
    },
    {
      "cell_type": "code",
      "source": [
        "class Vehicle:\n",
        "  def drive(self):\n",
        "    print('Driving a vehicle')\n",
        "\n",
        "class Car(Vehicle):\n",
        "  def drive(self):\n",
        "    print(\"The car is easier to drive in autmatic as well as manual\")\n",
        "\n",
        "class Truck(Vehicle):\n",
        "  def drive(self):\n",
        "    print(\"This is a bigger vehicle with just manual drive and hard to learn\")\n",
        "\n",
        "class Motorcycle(Vehicle):\n",
        "  def drive(self):\n",
        "    print(\"This vehicle is two wheeler and easier to handle with handlebars\")\n",
        "\n",
        "t = Car()\n",
        "t.drive()"
      ],
      "metadata": {
        "colab": {
          "base_uri": "https://localhost:8080/"
        },
        "id": "fSC5HYpVgR_m",
        "outputId": "03d47870-5b1d-471b-8db3-053f00f04c81"
      },
      "execution_count": 9,
      "outputs": [
        {
          "output_type": "stream",
          "name": "stdout",
          "text": [
            "The car is easier to drive in autmatic as well as manual\n"
          ]
        }
      ]
    },
    {
      "cell_type": "markdown",
      "source": [
        "# **SQL Assessment**"
      ],
      "metadata": {
        "id": "B02AgYAdh8c6"
      }
    },
    {
      "cell_type": "code",
      "source": [],
      "metadata": {
        "id": "Sq1D0F--h_VJ"
      },
      "execution_count": null,
      "outputs": []
    },
    {
      "cell_type": "code",
      "source": [
        "#Q2.\n",
        "SELECT employee_name , manager_id FROM employees\n",
        "SELECT * from employees"
      ],
      "metadata": {
        "id": "sJ1wkhHlicIC"
      },
      "execution_count": null,
      "outputs": []
    },
    {
      "cell_type": "code",
      "source": [
        "#Q3\n",
        "SELECT customer_name customer_id, COUNT(DISTINCT(customer_name))\n",
        "FROM customers,orders\n",
        "WHERE customers.customer_id=orders.order_id\n",
        "HAVING count(order_id)>0"
      ],
      "metadata": {
        "id": "3WyVCFxbicS6"
      },
      "execution_count": null,
      "outputs": []
    }
  ]
}